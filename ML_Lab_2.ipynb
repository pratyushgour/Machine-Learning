{
  "nbformat": 4,
  "nbformat_minor": 0,
  "metadata": {
    "colab": {
      "name": "ML_Lab-2-Pr",
      "provenance": []
    },
    "kernelspec": {
      "name": "python3",
      "display_name": "Python 3"
    }
  },
  "cells": [
    {
      "cell_type": "code",
      "metadata": {
        "id": "1imyKfCu6fD1"
      },
      "source": [
        "import matplotlib.pyplot as plt\r\n",
        "import numpy as np"
      ],
      "execution_count": null,
      "outputs": []
    },
    {
      "cell_type": "code",
      "metadata": {
        "colab": {
          "base_uri": "https://localhost:8080/",
          "height": 265
        },
        "id": "UylJRav06kgv",
        "outputId": "2cb8c0b2-6148-4b30-a3ba-c655b3a7f484"
      },
      "source": [
        "x = np.array([1, 2, 3])\r\n",
        "y = np.array([1.2, 1.9, 3.2])\r\n",
        "plt.plot(x, y, 'bo')\r\n",
        "plt.show()"
      ],
      "execution_count": null,
      "outputs": [
        {
          "output_type": "display_data",
          "data": {
            "image/png": "[encoded data removed]",
            "text/plain": [
              "<Figure size 432x288 with 1 Axes>"
            ]
          },
          "metadata": {
            "tags": [],
            "needs_background": "light"
          }
        }
      ]
    },
    {
      "cell_type": "code",
      "metadata": {
        "id": "mUGjFpWI6rYV"
      },
      "source": [
        "def max_likelihood(x, y):\r\n",
        "  a = x.sum()\r\n",
        "  b = y.sum()\r\n",
        "  c = x.dot(y.T)\r\n",
        "  d = x.dot(x.T)\r\n",
        "  n = len(x)\r\n",
        "  \r\n",
        "  w1 = (b*a - c*n)/(a*a - n*d)\r\n",
        "  w0 = (c - w1*d)/a\r\n",
        "  return w1, w0"
      ],
      "execution_count": null,
      "outputs": []
    },
    {
      "cell_type": "code",
      "metadata": {
        "colab": {
          "base_uri": "https://localhost:8080/",
          "height": 265
        },
        "id": "HHBvbNat60Xl",
        "outputId": "1efe9828-2587-475a-f880-7bba17108cb6"
      },
      "source": [
        "m, c = max_likelihood(x, y)\r\n",
        "\r\n",
        "y_hat = []\r\n",
        "for i in range(len(x)):\r\n",
        "  y_hat.append(m*x[i] + c)\r\n",
        "\r\n",
        "plt.plot(x, y_hat)\r\n",
        "plt.plot(x, y, 'bo')\r\n",
        "plt.show()"
      ],
      "execution_count": null,
      "outputs": [
        {
          "output_type": "display_data",
          "data": {
            "image/png": "[encoded data removed]",
            "text/plain": [
              "<Figure size 432x288 with 1 Axes>"
            ]
          },
          "metadata": {
            "tags": [],
            "needs_background": "light"
          }
        }
      ]
    },
    {
      "cell_type": "code",
      "metadata": {
        "id": "S-vgtsGt6_A9"
      },
      "source": [
        ""
      ],
      "execution_count": null,
      "outputs": []
    }
  ]
}